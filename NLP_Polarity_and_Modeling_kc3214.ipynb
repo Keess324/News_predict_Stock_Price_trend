{
 "cells": [
  {
   "cell_type": "code",
   "execution_count": 1,
   "metadata": {},
   "outputs": [],
   "source": [
    "# Import Library\n",
    "from bs4 import BeautifulSoup\n",
    "import numpy as np\n",
    "import pandas as pd\n",
    "import matplotlib.pyplot as plt\n",
    "import datetime\n",
    "from datetime import datetime\n",
    "from pandas_datareader import data as web\n",
    "import os\n",
    "import string\n",
    "import requests\n",
    "import nltk\n",
    "from nltk import word_tokenize\n",
    "from nltk.corpus import PlaintextCorpusReader\n",
    "from nltk.corpus import stopwords\n",
    "from nltk.tokenize import TweetTokenizer\n",
    "from nltk.tokenize import word_tokenize\n",
    "from nltk.stem import PorterStemmer\n",
    "from nltk.stem import WordNetLemmatizer\n",
    "import re\n",
    "from xgboost import XGBClassifier\n",
    "from sklearn.metrics import accuracy_score"
   ]
  },
  {
   "cell_type": "code",
   "execution_count": 2,
   "metadata": {},
   "outputs": [],
   "source": [
    "Y = pd.read_csv(\"News_score.csv\")\n",
    "X = pd.read_csv(\"newscleaned2.csv\")"
   ]
  },
  {
   "cell_type": "code",
   "execution_count": 3,
   "metadata": {},
   "outputs": [
    {
     "data": {
      "text/html": [
       "<div>\n",
       "<style scoped>\n",
       "    .dataframe tbody tr th:only-of-type {\n",
       "        vertical-align: middle;\n",
       "    }\n",
       "\n",
       "    .dataframe tbody tr th {\n",
       "        vertical-align: top;\n",
       "    }\n",
       "\n",
       "    .dataframe thead th {\n",
       "        text-align: right;\n",
       "    }\n",
       "</style>\n",
       "<table border=\"1\" class=\"dataframe\">\n",
       "  <thead>\n",
       "    <tr style=\"text-align: right;\">\n",
       "      <th></th>\n",
       "      <th>Unnamed: 0</th>\n",
       "      <th>Date</th>\n",
       "      <th>High</th>\n",
       "      <th>Low</th>\n",
       "      <th>Open</th>\n",
       "      <th>Close</th>\n",
       "      <th>Volume</th>\n",
       "      <th>Adj Close</th>\n",
       "      <th>Daily Growth</th>\n",
       "      <th>LabeledY1</th>\n",
       "      <th>LabeledY2</th>\n",
       "      <th>title_score1</th>\n",
       "      <th>abs_score1</th>\n",
       "      <th>title_score2</th>\n",
       "      <th>abs_score2</th>\n",
       "      <th>title_polarity</th>\n",
       "      <th>title_subjectivity</th>\n",
       "      <th>abs_polarity</th>\n",
       "      <th>abs_subjectivity</th>\n",
       "    </tr>\n",
       "  </thead>\n",
       "  <tbody>\n",
       "    <tr>\n",
       "      <th>0</th>\n",
       "      <td>0</td>\n",
       "      <td>2016-09-26</td>\n",
       "      <td>2158.540039</td>\n",
       "      <td>2145.040039</td>\n",
       "      <td>2158.540039</td>\n",
       "      <td>2146.100098</td>\n",
       "      <td>3216170000</td>\n",
       "      <td>2146.100098</td>\n",
       "      <td>-0.005763</td>\n",
       "      <td>-1</td>\n",
       "      <td>-1</td>\n",
       "      <td>0.9508</td>\n",
       "      <td>0.9990</td>\n",
       "      <td>0.3612</td>\n",
       "      <td>0.9952</td>\n",
       "      <td>0.070004</td>\n",
       "      <td>0.396425</td>\n",
       "      <td>0.041043</td>\n",
       "      <td>0.413740</td>\n",
       "    </tr>\n",
       "    <tr>\n",
       "      <th>1</th>\n",
       "      <td>1</td>\n",
       "      <td>2016-09-27</td>\n",
       "      <td>2161.129883</td>\n",
       "      <td>2141.550049</td>\n",
       "      <td>2146.040039</td>\n",
       "      <td>2159.929932</td>\n",
       "      <td>3437770000</td>\n",
       "      <td>2159.929932</td>\n",
       "      <td>0.006472</td>\n",
       "      <td>1</td>\n",
       "      <td>1</td>\n",
       "      <td>0.9881</td>\n",
       "      <td>0.9976</td>\n",
       "      <td>-0.9761</td>\n",
       "      <td>-0.9717</td>\n",
       "      <td>0.010467</td>\n",
       "      <td>0.412125</td>\n",
       "      <td>0.017999</td>\n",
       "      <td>0.435100</td>\n",
       "    </tr>\n",
       "    <tr>\n",
       "      <th>2</th>\n",
       "      <td>2</td>\n",
       "      <td>2016-09-28</td>\n",
       "      <td>2172.399902</td>\n",
       "      <td>2151.790039</td>\n",
       "      <td>2161.850098</td>\n",
       "      <td>2171.370117</td>\n",
       "      <td>3891460000</td>\n",
       "      <td>2171.370117</td>\n",
       "      <td>0.004404</td>\n",
       "      <td>0</td>\n",
       "      <td>1</td>\n",
       "      <td>-0.9888</td>\n",
       "      <td>0.9942</td>\n",
       "      <td>-0.9806</td>\n",
       "      <td>0.7184</td>\n",
       "      <td>0.061586</td>\n",
       "      <td>0.368534</td>\n",
       "      <td>0.050819</td>\n",
       "      <td>0.481116</td>\n",
       "    </tr>\n",
       "    <tr>\n",
       "      <th>3</th>\n",
       "      <td>3</td>\n",
       "      <td>2016-09-29</td>\n",
       "      <td>2172.669922</td>\n",
       "      <td>2145.199951</td>\n",
       "      <td>2168.899902</td>\n",
       "      <td>2151.129883</td>\n",
       "      <td>4249220000</td>\n",
       "      <td>2151.129883</td>\n",
       "      <td>-0.008193</td>\n",
       "      <td>-1</td>\n",
       "      <td>-1</td>\n",
       "      <td>0.9911</td>\n",
       "      <td>0.9987</td>\n",
       "      <td>0.6249</td>\n",
       "      <td>0.9856</td>\n",
       "      <td>0.009768</td>\n",
       "      <td>0.415676</td>\n",
       "      <td>0.025399</td>\n",
       "      <td>0.419600</td>\n",
       "    </tr>\n",
       "    <tr>\n",
       "      <th>4</th>\n",
       "      <td>4</td>\n",
       "      <td>2016-09-30</td>\n",
       "      <td>2175.300049</td>\n",
       "      <td>2156.510010</td>\n",
       "      <td>2156.510010</td>\n",
       "      <td>2168.270020</td>\n",
       "      <td>4173340000</td>\n",
       "      <td>2168.270020</td>\n",
       "      <td>0.005453</td>\n",
       "      <td>0</td>\n",
       "      <td>1</td>\n",
       "      <td>-0.8984</td>\n",
       "      <td>0.9958</td>\n",
       "      <td>-0.9623</td>\n",
       "      <td>0.9417</td>\n",
       "      <td>0.081814</td>\n",
       "      <td>0.429716</td>\n",
       "      <td>0.054197</td>\n",
       "      <td>0.412035</td>\n",
       "    </tr>\n",
       "  </tbody>\n",
       "</table>\n",
       "</div>"
      ],
      "text/plain": [
       "   Unnamed: 0        Date         High          Low         Open        Close  \\\n",
       "0           0  2016-09-26  2158.540039  2145.040039  2158.540039  2146.100098   \n",
       "1           1  2016-09-27  2161.129883  2141.550049  2146.040039  2159.929932   \n",
       "2           2  2016-09-28  2172.399902  2151.790039  2161.850098  2171.370117   \n",
       "3           3  2016-09-29  2172.669922  2145.199951  2168.899902  2151.129883   \n",
       "4           4  2016-09-30  2175.300049  2156.510010  2156.510010  2168.270020   \n",
       "\n",
       "       Volume    Adj Close  Daily Growth  LabeledY1  LabeledY2  title_score1  \\\n",
       "0  3216170000  2146.100098     -0.005763         -1         -1        0.9508   \n",
       "1  3437770000  2159.929932      0.006472          1          1        0.9881   \n",
       "2  3891460000  2171.370117      0.004404          0          1       -0.9888   \n",
       "3  4249220000  2151.129883     -0.008193         -1         -1        0.9911   \n",
       "4  4173340000  2168.270020      0.005453          0          1       -0.8984   \n",
       "\n",
       "   abs_score1  title_score2  abs_score2  title_polarity  title_subjectivity  \\\n",
       "0      0.9990        0.3612      0.9952        0.070004            0.396425   \n",
       "1      0.9976       -0.9761     -0.9717        0.010467            0.412125   \n",
       "2      0.9942       -0.9806      0.7184        0.061586            0.368534   \n",
       "3      0.9987        0.6249      0.9856        0.009768            0.415676   \n",
       "4      0.9958       -0.9623      0.9417        0.081814            0.429716   \n",
       "\n",
       "   abs_polarity  abs_subjectivity  \n",
       "0      0.041043          0.413740  \n",
       "1      0.017999          0.435100  \n",
       "2      0.050819          0.481116  \n",
       "3      0.025399          0.419600  \n",
       "4      0.054197          0.412035  "
      ]
     },
     "execution_count": 3,
     "metadata": {},
     "output_type": "execute_result"
    }
   ],
   "source": [
    "Y.head()"
   ]
  },
  {
   "cell_type": "code",
   "execution_count": 4,
   "metadata": {},
   "outputs": [
    {
     "data": {
      "text/html": [
       "<div>\n",
       "<style scoped>\n",
       "    .dataframe tbody tr th:only-of-type {\n",
       "        vertical-align: middle;\n",
       "    }\n",
       "\n",
       "    .dataframe tbody tr th {\n",
       "        vertical-align: top;\n",
       "    }\n",
       "\n",
       "    .dataframe thead th {\n",
       "        text-align: right;\n",
       "    }\n",
       "</style>\n",
       "<table border=\"1\" class=\"dataframe\">\n",
       "  <thead>\n",
       "    <tr style=\"text-align: right;\">\n",
       "      <th></th>\n",
       "      <th>Unnamed: 0</th>\n",
       "      <th>Date</th>\n",
       "      <th>News_title</th>\n",
       "      <th>News_abstract</th>\n",
       "    </tr>\n",
       "  </thead>\n",
       "  <tbody>\n",
       "    <tr>\n",
       "      <th>0</th>\n",
       "      <td>0</td>\n",
       "      <td>2016-09-26</td>\n",
       "      <td>additional skyhigh peres loss export lineup cr...</td>\n",
       "      <td>bare rescind prevent chemical include accompan...</td>\n",
       "    </tr>\n",
       "    <tr>\n",
       "      <th>1</th>\n",
       "      <td>1</td>\n",
       "      <td>2016-09-27</td>\n",
       "      <td>blunt restoration peres loss wealth list fisch...</td>\n",
       "      <td>version oppose loss export according list food...</td>\n",
       "    </tr>\n",
       "    <tr>\n",
       "      <th>2</th>\n",
       "      <td>2</td>\n",
       "      <td>2016-09-28</td>\n",
       "      <td>better lyft chemical peres loss knew robert li...</td>\n",
       "      <td>assuming chemical theatre loss export conducte...</td>\n",
       "    </tr>\n",
       "    <tr>\n",
       "      <th>3</th>\n",
       "      <td>3</td>\n",
       "      <td>2016-09-29</td>\n",
       "      <td>viral peres loss sound list credit pass rip la...</td>\n",
       "      <td>spurring mishandled export according transpare...</td>\n",
       "    </tr>\n",
       "    <tr>\n",
       "      <th>4</th>\n",
       "      <td>4</td>\n",
       "      <td>2016-09-30</td>\n",
       "      <td>peres loss reviewing list robert stance charlo...</td>\n",
       "      <td>fled version blunt persisted include peres los...</td>\n",
       "    </tr>\n",
       "  </tbody>\n",
       "</table>\n",
       "</div>"
      ],
      "text/plain": [
       "   Unnamed: 0        Date                                         News_title  \\\n",
       "0           0  2016-09-26  additional skyhigh peres loss export lineup cr...   \n",
       "1           1  2016-09-27  blunt restoration peres loss wealth list fisch...   \n",
       "2           2  2016-09-28  better lyft chemical peres loss knew robert li...   \n",
       "3           3  2016-09-29  viral peres loss sound list credit pass rip la...   \n",
       "4           4  2016-09-30  peres loss reviewing list robert stance charlo...   \n",
       "\n",
       "                                       News_abstract  \n",
       "0  bare rescind prevent chemical include accompan...  \n",
       "1  version oppose loss export according list food...  \n",
       "2  assuming chemical theatre loss export conducte...  \n",
       "3  spurring mishandled export according transpare...  \n",
       "4  fled version blunt persisted include peres los...  "
      ]
     },
     "execution_count": 4,
     "metadata": {},
     "output_type": "execute_result"
    }
   ],
   "source": [
    "X.head()"
   ]
  },
  {
   "cell_type": "markdown",
   "metadata": {},
   "source": [
    "### Polarity Analysis by using Textblob"
   ]
  },
  {
   "cell_type": "code",
   "execution_count": 5,
   "metadata": {},
   "outputs": [],
   "source": [
    "from textblob import TextBlob"
   ]
  },
  {
   "cell_type": "code",
   "execution_count": 6,
   "metadata": {},
   "outputs": [],
   "source": [
    "a = X['News_title'][0]\n",
    "b = TextBlob(a).sentiment[0]\n",
    "c = TextBlob(a).sentiment[1]"
   ]
  },
  {
   "cell_type": "code",
   "execution_count": 7,
   "metadata": {},
   "outputs": [],
   "source": [
    "X_score = pd.DataFrame()"
   ]
  },
  {
   "cell_type": "code",
   "execution_count": 8,
   "metadata": {},
   "outputs": [],
   "source": [
    "# Polarity Analysis for news_title\n",
    "X_score['title_polarity'] = X['News_title'].apply(lambda x: TextBlob(x).sentiment[0])\n",
    "X_score['title_subjectivity'] = X['News_title'].apply(lambda x: TextBlob(x).sentiment[1])\n",
    "\n",
    "# Polarity Analysis for news_abstract\n",
    "X_score['abs_polarity'] = X['News_abstract'].apply(lambda x: TextBlob(x).sentiment[0])\n",
    "X_score['abs_subjectivity'] = X['News_abstract'].apply(lambda x: TextBlob(x).sentiment[1])\n"
   ]
  },
  {
   "cell_type": "code",
   "execution_count": 9,
   "metadata": {},
   "outputs": [
    {
     "data": {
      "text/html": [
       "<div>\n",
       "<style scoped>\n",
       "    .dataframe tbody tr th:only-of-type {\n",
       "        vertical-align: middle;\n",
       "    }\n",
       "\n",
       "    .dataframe tbody tr th {\n",
       "        vertical-align: top;\n",
       "    }\n",
       "\n",
       "    .dataframe thead th {\n",
       "        text-align: right;\n",
       "    }\n",
       "</style>\n",
       "<table border=\"1\" class=\"dataframe\">\n",
       "  <thead>\n",
       "    <tr style=\"text-align: right;\">\n",
       "      <th></th>\n",
       "      <th>title_polarity</th>\n",
       "      <th>title_subjectivity</th>\n",
       "      <th>abs_polarity</th>\n",
       "      <th>abs_subjectivity</th>\n",
       "    </tr>\n",
       "  </thead>\n",
       "  <tbody>\n",
       "    <tr>\n",
       "      <th>0</th>\n",
       "      <td>0.070004</td>\n",
       "      <td>0.396425</td>\n",
       "      <td>0.041043</td>\n",
       "      <td>0.413740</td>\n",
       "    </tr>\n",
       "    <tr>\n",
       "      <th>1</th>\n",
       "      <td>0.010467</td>\n",
       "      <td>0.412125</td>\n",
       "      <td>0.017999</td>\n",
       "      <td>0.435100</td>\n",
       "    </tr>\n",
       "    <tr>\n",
       "      <th>2</th>\n",
       "      <td>0.061586</td>\n",
       "      <td>0.368534</td>\n",
       "      <td>0.050819</td>\n",
       "      <td>0.481116</td>\n",
       "    </tr>\n",
       "    <tr>\n",
       "      <th>3</th>\n",
       "      <td>0.009768</td>\n",
       "      <td>0.415676</td>\n",
       "      <td>0.025399</td>\n",
       "      <td>0.419600</td>\n",
       "    </tr>\n",
       "    <tr>\n",
       "      <th>4</th>\n",
       "      <td>0.081814</td>\n",
       "      <td>0.429716</td>\n",
       "      <td>0.054197</td>\n",
       "      <td>0.412035</td>\n",
       "    </tr>\n",
       "    <tr>\n",
       "      <th>5</th>\n",
       "      <td>0.041357</td>\n",
       "      <td>0.350482</td>\n",
       "      <td>0.037696</td>\n",
       "      <td>0.396029</td>\n",
       "    </tr>\n",
       "    <tr>\n",
       "      <th>6</th>\n",
       "      <td>0.072068</td>\n",
       "      <td>0.377090</td>\n",
       "      <td>0.036085</td>\n",
       "      <td>0.420215</td>\n",
       "    </tr>\n",
       "    <tr>\n",
       "      <th>7</th>\n",
       "      <td>-0.006672</td>\n",
       "      <td>0.331287</td>\n",
       "      <td>0.021652</td>\n",
       "      <td>0.454649</td>\n",
       "    </tr>\n",
       "    <tr>\n",
       "      <th>8</th>\n",
       "      <td>0.069386</td>\n",
       "      <td>0.373315</td>\n",
       "      <td>0.013940</td>\n",
       "      <td>0.413580</td>\n",
       "    </tr>\n",
       "    <tr>\n",
       "      <th>9</th>\n",
       "      <td>0.072813</td>\n",
       "      <td>0.373992</td>\n",
       "      <td>0.060094</td>\n",
       "      <td>0.455539</td>\n",
       "    </tr>\n",
       "  </tbody>\n",
       "</table>\n",
       "</div>"
      ],
      "text/plain": [
       "   title_polarity  title_subjectivity  abs_polarity  abs_subjectivity\n",
       "0        0.070004            0.396425      0.041043          0.413740\n",
       "1        0.010467            0.412125      0.017999          0.435100\n",
       "2        0.061586            0.368534      0.050819          0.481116\n",
       "3        0.009768            0.415676      0.025399          0.419600\n",
       "4        0.081814            0.429716      0.054197          0.412035\n",
       "5        0.041357            0.350482      0.037696          0.396029\n",
       "6        0.072068            0.377090      0.036085          0.420215\n",
       "7       -0.006672            0.331287      0.021652          0.454649\n",
       "8        0.069386            0.373315      0.013940          0.413580\n",
       "9        0.072813            0.373992      0.060094          0.455539"
      ]
     },
     "execution_count": 9,
     "metadata": {},
     "output_type": "execute_result"
    }
   ],
   "source": [
    "X_score.head(10)"
   ]
  },
  {
   "cell_type": "markdown",
   "metadata": {},
   "source": [
    "## Split to Train and Test and modeling"
   ]
  },
  {
   "cell_type": "code",
   "execution_count": 17,
   "metadata": {},
   "outputs": [],
   "source": [
    "# Splite X to TrainX and TestX 70/30\n",
    "# Splite Y to TrainY and TestY 70/30\n",
    "Y1 = Y['LabeledY1']\n",
    "Y2 = Y['LabeledY2']\n",
    "cut = int(0.7*X.shape[0])\n",
    "Xtrain = X_score.iloc[0: cut]\n",
    "Xtest = X_score.iloc[cut:]\n",
    "Ytrain1 = Y1.iloc[0: cut]\n",
    "Ytest1 = Y1.iloc[cut:]\n",
    "Ytrain2 = Y2.iloc[0: cut]\n",
    "Ytest2 = Y2.iloc[cut:]"
   ]
  },
  {
   "cell_type": "markdown",
   "metadata": {},
   "source": [
    "____________"
   ]
  },
  {
   "cell_type": "markdown",
   "metadata": {},
   "source": [
    "## Modelling Analysis\n",
    "\n",
    "In my attemps, my polarity analysis combines with XGBoost and Random Forest gives some results.\n",
    "XGBoost: For (Y1 Stock) training, XGBoost achives highest training score 0.9887 and testing score 0.6797; however, there are serious overfitting problem.\n",
    "\n",
    "For (Y2 Stock) training, XGB shows training score as 0.949, and testing score 0.392. Obviously, there are more serious overfitting problem, also bad performance overall.\n",
    "\n",
    "Random Forest: For (Y1 Stock) training, RF achieves training score 0.87, and testing score 0.69, it performance better than XGBoost.\n",
    "\n",
    "For (Y2 Stock) training, RF achieves training score, 0.62, and testing score 0.45, which is also better than XGBoost performance.\n",
    "\n",
    "Overall, I will choose Random Forest as my algorithm, and Y1 preprocessing shows a better split. I will compare my results with my groupmates to produce a final results."
   ]
  },
  {
   "cell_type": "markdown",
   "metadata": {},
   "source": [
    "## Using XGBoost for modeling"
   ]
  },
  {
   "cell_type": "markdown",
   "metadata": {},
   "source": [
    "Training Process: Xtrain, Ytrain1"
   ]
  },
  {
   "cell_type": "code",
   "execution_count": 49,
   "metadata": {},
   "outputs": [],
   "source": [
    "XGBModel = XGBClassifier(max_depth=4, learning_rate=0.1, n_estimators=100, \\\n",
    "                              silent=True, objective='binary:logistic', nthread=-1, \\\n",
    "                              reg_alpha=0, reg_lambda=1, \\\n",
    "                              base_score=0.5, missing=None)\n",
    "\n",
    "# Training\n",
    "fit=XGBModel.fit(Xtrain, Ytrain1)"
   ]
  },
  {
   "cell_type": "code",
   "execution_count": 50,
   "metadata": {},
   "outputs": [
    {
     "data": {
      "text/plain": [
       "0.9887323943661972"
      ]
     },
     "execution_count": 50,
     "metadata": {},
     "output_type": "execute_result"
    }
   ],
   "source": [
    "# Training Score\n",
    "XGBModel.score(Xtrain,Ytrain1)"
   ]
  },
  {
   "cell_type": "code",
   "execution_count": 51,
   "metadata": {},
   "outputs": [
    {
     "data": {
      "text/plain": [
       "0.6797385620915033"
      ]
     },
     "execution_count": 51,
     "metadata": {},
     "output_type": "execute_result"
    }
   ],
   "source": [
    "# Testing Score\n",
    "XGBModel.score(Xtest,Ytest1)"
   ]
  },
  {
   "cell_type": "markdown",
   "metadata": {},
   "source": [
    "Training Process: Xtrain, Ytrain2"
   ]
  },
  {
   "cell_type": "code",
   "execution_count": 52,
   "metadata": {},
   "outputs": [],
   "source": [
    "# Training\n",
    "fit=XGBModel.fit(Xtrain, Ytrain2)"
   ]
  },
  {
   "cell_type": "code",
   "execution_count": 53,
   "metadata": {},
   "outputs": [
    {
     "data": {
      "text/plain": [
       "0.9492957746478873"
      ]
     },
     "execution_count": 53,
     "metadata": {},
     "output_type": "execute_result"
    }
   ],
   "source": [
    "# Training Score\n",
    "XGBModel.score(Xtrain,Ytrain2)"
   ]
  },
  {
   "cell_type": "code",
   "execution_count": 54,
   "metadata": {},
   "outputs": [
    {
     "data": {
      "text/plain": [
       "0.39215686274509803"
      ]
     },
     "execution_count": 54,
     "metadata": {},
     "output_type": "execute_result"
    }
   ],
   "source": [
    "# Testing Score\n",
    "XGBModel.score(Xtest,Ytest2)"
   ]
  },
  {
   "cell_type": "markdown",
   "metadata": {},
   "source": [
    "## Using Random Forest Modeling"
   ]
  },
  {
   "cell_type": "code",
   "execution_count": 56,
   "metadata": {},
   "outputs": [],
   "source": [
    "from sklearn.ensemble import RandomForestClassifier\n",
    "from sklearn.datasets import make_classification"
   ]
  },
  {
   "cell_type": "markdown",
   "metadata": {},
   "source": [
    "training Xtrain and Ytrain2"
   ]
  },
  {
   "cell_type": "code",
   "execution_count": 63,
   "metadata": {},
   "outputs": [],
   "source": [
    "RFmodel = RandomForestClassifier(bootstrap=True, class_weight=None, criterion='gini',\n",
    "            max_depth=2, max_features='auto', max_leaf_nodes=None,\n",
    "            min_impurity_decrease=0.0, min_impurity_split=None,\n",
    "            min_samples_leaf=1, min_samples_split=2,\n",
    "            min_weight_fraction_leaf=0.0, n_estimators=100, n_jobs=None,\n",
    "            oob_score=False, random_state=0, verbose=0, warm_start=False)\n",
    "\n",
    "rffit=RFmodel.fit(Xtrain, Ytrain2)\n"
   ]
  },
  {
   "cell_type": "markdown",
   "metadata": {},
   "source": [
    "Training Score (Xtrain Ytrain2)"
   ]
  },
  {
   "cell_type": "code",
   "execution_count": 64,
   "metadata": {},
   "outputs": [
    {
     "data": {
      "text/plain": [
       "0.6253521126760564"
      ]
     },
     "execution_count": 64,
     "metadata": {},
     "output_type": "execute_result"
    }
   ],
   "source": [
    "rffit.score(Xtrain,Ytrain2)"
   ]
  },
  {
   "cell_type": "markdown",
   "metadata": {},
   "source": [
    "Testing Score (Ytest2)"
   ]
  },
  {
   "cell_type": "code",
   "execution_count": 65,
   "metadata": {},
   "outputs": [
    {
     "data": {
      "text/plain": [
       "0.45751633986928103"
      ]
     },
     "execution_count": 65,
     "metadata": {},
     "output_type": "execute_result"
    }
   ],
   "source": [
    "rffit.score(Xtest,Ytest2)"
   ]
  },
  {
   "cell_type": "markdown",
   "metadata": {},
   "source": [
    "Training Xtrain and Ytrain1"
   ]
  },
  {
   "cell_type": "code",
   "execution_count": 66,
   "metadata": {},
   "outputs": [],
   "source": [
    "rffitY1=RFmodel.fit(Xtrain, Ytrain1)"
   ]
  },
  {
   "cell_type": "markdown",
   "metadata": {},
   "source": [
    "Training Score(Ytrain1)"
   ]
  },
  {
   "cell_type": "code",
   "execution_count": 67,
   "metadata": {},
   "outputs": [
    {
     "data": {
      "text/plain": [
       "0.8704225352112676"
      ]
     },
     "execution_count": 67,
     "metadata": {},
     "output_type": "execute_result"
    }
   ],
   "source": [
    "rffitY1.score(Xtrain,Ytrain1)"
   ]
  },
  {
   "cell_type": "markdown",
   "metadata": {},
   "source": [
    "Testing Score(Ytest1)"
   ]
  },
  {
   "cell_type": "code",
   "execution_count": 68,
   "metadata": {},
   "outputs": [
    {
     "data": {
      "text/plain": [
       "0.6928104575163399"
      ]
     },
     "execution_count": 68,
     "metadata": {},
     "output_type": "execute_result"
    }
   ],
   "source": [
    "rffitY1.score(Xtest,Ytest1)"
   ]
  },
  {
   "cell_type": "markdown",
   "metadata": {},
   "source": [
    "### In my attemps, my polarity analysis combines with XGBoost and Random Forest gives some results.\n",
    "\n",
    "XGBoost:\n",
    "For (Y1 Stock) training, XGBoost achives highest training score 0.9887 and testing score 0.6797; however, there are serious overfitting problem.\n",
    "\n",
    "For (Y2 Stock) training, XGB shows training score as 0.949, and testing score 0.392. Obviously, there are more serious overfitting problem, also bad performance overall.\n",
    "\n",
    "Random Forest:\n",
    "For (Y1 Stock) training, RF achieves training score 0.87, and testing score 0.69, it performance better than XGBoost.\n",
    "\n",
    "For (Y2 Stock) training, RF achieves training score, 0.62, and testing score 0.45, which is also better than XGBoost performance.\n",
    "\n",
    "Overall, I will choose Random Forest as my algorithm, and Y1 preprocessing shows a better split. I will compare my results with my groupmates to produce a final results. "
   ]
  },
  {
   "cell_type": "code",
   "execution_count": null,
   "metadata": {},
   "outputs": [],
   "source": []
  }
 ],
 "metadata": {
  "kernelspec": {
   "display_name": "Python 3",
   "language": "python",
   "name": "python3"
  },
  "language_info": {
   "codemirror_mode": {
    "name": "ipython",
    "version": 3
   },
   "file_extension": ".py",
   "mimetype": "text/x-python",
   "name": "python",
   "nbconvert_exporter": "python",
   "pygments_lexer": "ipython3",
   "version": "3.6.3"
  }
 },
 "nbformat": 4,
 "nbformat_minor": 2
}
