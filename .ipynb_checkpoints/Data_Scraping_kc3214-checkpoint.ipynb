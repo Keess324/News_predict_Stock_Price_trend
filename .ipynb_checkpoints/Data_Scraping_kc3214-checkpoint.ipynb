{
 "cells": [
  {
   "cell_type": "markdown",
   "metadata": {},
   "source": [
    "##  Import Library"
   ]
  },
  {
   "cell_type": "code",
   "execution_count": 1,
   "metadata": {},
   "outputs": [],
   "source": [
    "# Import Library\n",
    "from bs4 import BeautifulSoup\n",
    "import numpy as np\n",
    "import pandas as pd\n",
    "import matplotlib.pyplot as plt\n",
    "import datetime\n",
    "from datetime import datetime\n",
    "from pandas_datareader import data as web\n",
    "import os\n",
    "import string\n",
    "import requests\n",
    "import nltk\n",
    "from nltk import word_tokenize\n",
    "from nltk.corpus import PlaintextCorpusReader"
   ]
  },
  {
   "cell_type": "markdown",
   "metadata": {},
   "source": [
    "### Fetching Stock Price From Yahoo Finance"
   ]
  },
  {
   "cell_type": "code",
   "execution_count": 2,
   "metadata": {},
   "outputs": [],
   "source": [
    "# Stock Price\n",
    "def stock(stock_type, start, end):\n",
    "    sp500stock = web.get_data_yahoo([stock_type], start,end)\n",
    "    return sp500stock\n",
    "    \n",
    "stock_type = '^GSPC'\n",
    "start=datetime.datetime(2016, 9, 26)\n",
    "end=datetime.datetime(2018,10, 1)\n",
    "\n",
    "stock_data = stock(stock_type, start, end)"
   ]
  },
  {
   "cell_type": "code",
   "execution_count": 3,
   "metadata": {},
   "outputs": [
    {
     "data": {
      "text/html": [
       "<div>\n",
       "<style scoped>\n",
       "    .dataframe tbody tr th:only-of-type {\n",
       "        vertical-align: middle;\n",
       "    }\n",
       "\n",
       "    .dataframe tbody tr th {\n",
       "        vertical-align: top;\n",
       "    }\n",
       "\n",
       "    .dataframe thead tr th {\n",
       "        text-align: left;\n",
       "    }\n",
       "\n",
       "    .dataframe thead tr:last-of-type th {\n",
       "        text-align: right;\n",
       "    }\n",
       "</style>\n",
       "<table border=\"1\" class=\"dataframe\">\n",
       "  <thead>\n",
       "    <tr>\n",
       "      <th>Attributes</th>\n",
       "      <th>High</th>\n",
       "      <th>Low</th>\n",
       "      <th>Open</th>\n",
       "      <th>Close</th>\n",
       "      <th>Volume</th>\n",
       "      <th>Adj Close</th>\n",
       "    </tr>\n",
       "    <tr>\n",
       "      <th>Symbols</th>\n",
       "      <th>^GSPC</th>\n",
       "      <th>^GSPC</th>\n",
       "      <th>^GSPC</th>\n",
       "      <th>^GSPC</th>\n",
       "      <th>^GSPC</th>\n",
       "      <th>^GSPC</th>\n",
       "    </tr>\n",
       "    <tr>\n",
       "      <th>Date</th>\n",
       "      <th></th>\n",
       "      <th></th>\n",
       "      <th></th>\n",
       "      <th></th>\n",
       "      <th></th>\n",
       "      <th></th>\n",
       "    </tr>\n",
       "  </thead>\n",
       "  <tbody>\n",
       "    <tr>\n",
       "      <th>2016-09-26</th>\n",
       "      <td>2158.540039</td>\n",
       "      <td>2145.040039</td>\n",
       "      <td>2158.540039</td>\n",
       "      <td>2146.100098</td>\n",
       "      <td>3216170000</td>\n",
       "      <td>2146.100098</td>\n",
       "    </tr>\n",
       "    <tr>\n",
       "      <th>2016-09-27</th>\n",
       "      <td>2161.129883</td>\n",
       "      <td>2141.550049</td>\n",
       "      <td>2146.040039</td>\n",
       "      <td>2159.929932</td>\n",
       "      <td>3437770000</td>\n",
       "      <td>2159.929932</td>\n",
       "    </tr>\n",
       "    <tr>\n",
       "      <th>2016-09-28</th>\n",
       "      <td>2172.399902</td>\n",
       "      <td>2151.790039</td>\n",
       "      <td>2161.850098</td>\n",
       "      <td>2171.370117</td>\n",
       "      <td>3891460000</td>\n",
       "      <td>2171.370117</td>\n",
       "    </tr>\n",
       "    <tr>\n",
       "      <th>2016-09-29</th>\n",
       "      <td>2172.669922</td>\n",
       "      <td>2145.199951</td>\n",
       "      <td>2168.899902</td>\n",
       "      <td>2151.129883</td>\n",
       "      <td>4249220000</td>\n",
       "      <td>2151.129883</td>\n",
       "    </tr>\n",
       "    <tr>\n",
       "      <th>2016-09-30</th>\n",
       "      <td>2175.300049</td>\n",
       "      <td>2156.510010</td>\n",
       "      <td>2156.510010</td>\n",
       "      <td>2168.270020</td>\n",
       "      <td>4173340000</td>\n",
       "      <td>2168.270020</td>\n",
       "    </tr>\n",
       "  </tbody>\n",
       "</table>\n",
       "</div>"
      ],
      "text/plain": [
       "Attributes         High          Low         Open        Close      Volume  \\\n",
       "Symbols           ^GSPC        ^GSPC        ^GSPC        ^GSPC       ^GSPC   \n",
       "Date                                                                         \n",
       "2016-09-26  2158.540039  2145.040039  2158.540039  2146.100098  3216170000   \n",
       "2016-09-27  2161.129883  2141.550049  2146.040039  2159.929932  3437770000   \n",
       "2016-09-28  2172.399902  2151.790039  2161.850098  2171.370117  3891460000   \n",
       "2016-09-29  2172.669922  2145.199951  2168.899902  2151.129883  4249220000   \n",
       "2016-09-30  2175.300049  2156.510010  2156.510010  2168.270020  4173340000   \n",
       "\n",
       "Attributes    Adj Close  \n",
       "Symbols           ^GSPC  \n",
       "Date                     \n",
       "2016-09-26  2146.100098  \n",
       "2016-09-27  2159.929932  \n",
       "2016-09-28  2171.370117  \n",
       "2016-09-29  2151.129883  \n",
       "2016-09-30  2168.270020  "
      ]
     },
     "execution_count": 3,
     "metadata": {},
     "output_type": "execute_result"
    }
   ],
   "source": [
    "stock_data.head(5)"
   ]
  },
  {
   "cell_type": "markdown",
   "metadata": {},
   "source": [
    "#### Due to stock price date is not continuously, so we need to find the date with open markcket"
   ]
  },
  {
   "cell_type": "code",
   "execution_count": 4,
   "metadata": {},
   "outputs": [
    {
     "data": {
      "text/plain": [
       "508"
      ]
     },
     "execution_count": 4,
     "metadata": {},
     "output_type": "execute_result"
    }
   ],
   "source": [
    "open_date = stock_data.index\n",
    "len(open_date)"
   ]
  },
  {
   "cell_type": "markdown",
   "metadata": {},
   "source": [
    "### Web Scraping from Wall Street Journal"
   ]
  },
  {
   "cell_type": "code",
   "execution_count": 5,
   "metadata": {},
   "outputs": [
    {
     "name": "stdout",
     "output_type": "stream",
     "text": [
      "508\n"
     ]
    }
   ],
   "source": [
    "#Scraping news from the the corresponding date we found\n",
    "date_loop_list = []\n",
    "for i in range(len(open_date)):\n",
    "    d1 = open_date[i]\n",
    "    date_loop_list.append(d1.date())\n",
    "print(len(date_loop_list))"
   ]
  },
  {
   "cell_type": "code",
   "execution_count": 6,
   "metadata": {},
   "outputs": [],
   "source": [
    "# Web Scraping from Wall Street Journal\n",
    "def news(dateloop):\n",
    "#     date_list = [base - datetime.timedelta(days=x) for x in range(daterange)]\n",
    "#     date_loop_list = []\n",
    "#     for i in date_list:\n",
    "#         dt = datetime.date.strftime(i, '%Y-%m-%d')\n",
    "#         date_loop_list.append(dt)\n",
    "    \n",
    "    All_News=[]\n",
    "    for date in dateloop:\n",
    "        url = 'http://www.wsj.com/public/page/archive-'+ str(date) + '.html'\n",
    "        page = requests.get(url)    \n",
    "        result = BeautifulSoup(page.content,'lxml')\n",
    "        UL = result.find_all('ul', class_ = 'newsItem')\n",
    "        body1 = UL[0].find_all('p')\n",
    "        everyday_results = []\n",
    "        Headlines_Day = []\n",
    "        Abstracts_Day = []\n",
    "        for news_ in range(len(body1)):\n",
    "            body2 = body1[news_].get_text()\n",
    "            body3 = body2.strip().split('\\n ')\n",
    "            Headlines_item = body3[0]\n",
    "            Abstracts_item = body3[-1]\n",
    "            Headlines_Day.append(Headlines_item)\n",
    "            Abstracts_Day.append(Abstracts_item)\n",
    "        everyday_results = [date, Headlines_Day, Abstracts_Day]\n",
    "        All_News.append(everyday_results)\n",
    "    return All_News"
   ]
  },
  {
   "cell_type": "markdown",
   "metadata": {},
   "source": [
    "#### What news data looks like after scraping from website"
   ]
  },
  {
   "cell_type": "code",
   "execution_count": 7,
   "metadata": {},
   "outputs": [],
   "source": [
    "output_news = news(date_loop_list)\n",
    "# output_news"
   ]
  },
  {
   "cell_type": "markdown",
   "metadata": {},
   "source": [
    "### Convert the web scraping results to dataframe"
   ]
  },
  {
   "cell_type": "code",
   "execution_count": 8,
   "metadata": {},
   "outputs": [],
   "source": [
    "def news_to_dataframe(output_news):\n",
    "    news_df = pd.DataFrame()\n",
    "    date = []\n",
    "    news_title = []\n",
    "    news_abstract = []\n",
    "    for day in output_news:\n",
    "        date.append(day[0])  # date\n",
    "        news_title.append(day[1]) # news_title\n",
    "        news_abstract.append(day[2]) # news_abstract\n",
    "    news_df['Date'] = date\n",
    "    news_df['News_title'] = news_title\n",
    "    news_df['News_abstract'] = news_abstract\n",
    "    \n",
    "    return news_df\n"
   ]
  },
  {
   "cell_type": "code",
   "execution_count": 9,
   "metadata": {},
   "outputs": [
    {
     "data": {
      "text/html": [
       "<div>\n",
       "<style scoped>\n",
       "    .dataframe tbody tr th:only-of-type {\n",
       "        vertical-align: middle;\n",
       "    }\n",
       "\n",
       "    .dataframe tbody tr th {\n",
       "        vertical-align: top;\n",
       "    }\n",
       "\n",
       "    .dataframe thead th {\n",
       "        text-align: right;\n",
       "    }\n",
       "</style>\n",
       "<table border=\"1\" class=\"dataframe\">\n",
       "  <thead>\n",
       "    <tr style=\"text-align: right;\">\n",
       "      <th></th>\n",
       "      <th>Date</th>\n",
       "      <th>News_title</th>\n",
       "      <th>News_abstract</th>\n",
       "    </tr>\n",
       "  </thead>\n",
       "  <tbody>\n",
       "    <tr>\n",
       "      <th>0</th>\n",
       "      <td>2016-09-26</td>\n",
       "      <td>[Indian Stocks Emerge From the Crowd , Donald ...</td>\n",
       "      <td>[           Indian shares are on a roll in 201...</td>\n",
       "    </tr>\n",
       "    <tr>\n",
       "      <th>1</th>\n",
       "      <td>2016-09-27</td>\n",
       "      <td>[Takata Air Bags Recalled in South Korea , ペレス...</td>\n",
       "      <td>[           South Korea’s transport ministry h...</td>\n",
       "    </tr>\n",
       "    <tr>\n",
       "      <th>2</th>\n",
       "      <td>2016-09-28</td>\n",
       "      <td>[Photos of the Day:Asia , Missile System That ...</td>\n",
       "      <td>[           A man visits the Forbidden City in...</td>\n",
       "    </tr>\n",
       "    <tr>\n",
       "      <th>3</th>\n",
       "      <td>2016-09-29</td>\n",
       "      <td>[Photos of the Day: Asia , Traders to Scour Ja...</td>\n",
       "      <td>[           Bodybuilders compete over their mu...</td>\n",
       "    </tr>\n",
       "    <tr>\n",
       "      <th>4</th>\n",
       "      <td>2016-09-30</td>\n",
       "      <td>[Vietnam to Launch New Benchmark Stock Index  ...</td>\n",
       "      <td>[           Vietnam said it will launch VNX Al...</td>\n",
       "    </tr>\n",
       "    <tr>\n",
       "      <th>5</th>\n",
       "      <td>2016-10-03</td>\n",
       "      <td>[U.S. Auto Sales Slipped in September , Nobel ...</td>\n",
       "      <td>[           Light-vehicle sales sputtered in t...</td>\n",
       "    </tr>\n",
       "    <tr>\n",
       "      <th>6</th>\n",
       "      <td>2016-10-04</td>\n",
       "      <td>[Derrick Rose’s Trial Begins as Knicks Start P...</td>\n",
       "      <td>[           Knicks guard Derrick Rose’s civil ...</td>\n",
       "    </tr>\n",
       "    <tr>\n",
       "      <th>7</th>\n",
       "      <td>2016-10-05</td>\n",
       "      <td>[Oregon Standoff Leader Ammon Bundy Testifies ...</td>\n",
       "      <td>[           The leader of a 41-day standoff at...</td>\n",
       "    </tr>\n",
       "    <tr>\n",
       "      <th>8</th>\n",
       "      <td>2016-10-06</td>\n",
       "      <td>[North Korea Activity at Nuclear Sites Raises ...</td>\n",
       "      <td>[           Satellite images showing vehicles ...</td>\n",
       "    </tr>\n",
       "    <tr>\n",
       "      <th>9</th>\n",
       "      <td>2016-10-07</td>\n",
       "      <td>[U.S. Carriers to Allow Second Samsung Phone R...</td>\n",
       "      <td>[           U.S. phone carriers said Friday th...</td>\n",
       "    </tr>\n",
       "  </tbody>\n",
       "</table>\n",
       "</div>"
      ],
      "text/plain": [
       "         Date                                         News_title  \\\n",
       "0  2016-09-26  [Indian Stocks Emerge From the Crowd , Donald ...   \n",
       "1  2016-09-27  [Takata Air Bags Recalled in South Korea , ペレス...   \n",
       "2  2016-09-28  [Photos of the Day:Asia , Missile System That ...   \n",
       "3  2016-09-29  [Photos of the Day: Asia , Traders to Scour Ja...   \n",
       "4  2016-09-30  [Vietnam to Launch New Benchmark Stock Index  ...   \n",
       "5  2016-10-03  [U.S. Auto Sales Slipped in September , Nobel ...   \n",
       "6  2016-10-04  [Derrick Rose’s Trial Begins as Knicks Start P...   \n",
       "7  2016-10-05  [Oregon Standoff Leader Ammon Bundy Testifies ...   \n",
       "8  2016-10-06  [North Korea Activity at Nuclear Sites Raises ...   \n",
       "9  2016-10-07  [U.S. Carriers to Allow Second Samsung Phone R...   \n",
       "\n",
       "                                       News_abstract  \n",
       "0  [           Indian shares are on a roll in 201...  \n",
       "1  [           South Korea’s transport ministry h...  \n",
       "2  [           A man visits the Forbidden City in...  \n",
       "3  [           Bodybuilders compete over their mu...  \n",
       "4  [           Vietnam said it will launch VNX Al...  \n",
       "5  [           Light-vehicle sales sputtered in t...  \n",
       "6  [           Knicks guard Derrick Rose’s civil ...  \n",
       "7  [           The leader of a 41-day standoff at...  \n",
       "8  [           Satellite images showing vehicles ...  \n",
       "9  [           U.S. phone carriers said Friday th...  "
      ]
     },
     "execution_count": 9,
     "metadata": {},
     "output_type": "execute_result"
    }
   ],
   "source": [
    "news_data = news_to_dataframe(output_news) \n",
    "news_data.head(10)"
   ]
  },
  {
   "cell_type": "code",
   "execution_count": 10,
   "metadata": {},
   "outputs": [],
   "source": [
    "stock_data.to_csv(\"Stock_Price_kc3214.csv\", header = True) \n",
    "news_data.to_csv(\"news_kc3214.csv\", header = True)"
   ]
  }
 ],
 "metadata": {
  "kernelspec": {
   "display_name": "Python 3",
   "language": "python",
   "name": "python3"
  },
  "language_info": {
   "codemirror_mode": {
    "name": "ipython",
    "version": 3
   },
   "file_extension": ".py",
   "mimetype": "text/x-python",
   "name": "python",
   "nbconvert_exporter": "python",
   "pygments_lexer": "ipython3",
   "version": "3.6.3"
  }
 },
 "nbformat": 4,
 "nbformat_minor": 2
}
